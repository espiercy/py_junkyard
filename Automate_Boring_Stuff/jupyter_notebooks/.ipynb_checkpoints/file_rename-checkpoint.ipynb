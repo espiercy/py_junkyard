{
 "cells": [
  {
   "cell_type": "code",
   "execution_count": 1,
   "metadata": {
    "collapsed": true
   },
   "outputs": [],
   "source": [
    "#epiercy\n",
    "#file_rename\n",
    "#finds all files in directory with given prefix, suffixed by a series of 3 digits (e.g. 001, 002, et cetera)\n",
    "#locates any gaps in file names and fixes, renaming file and any subsequent ones."
   ]
  },
  {
   "cell_type": "code",
   "execution_count": 2,
   "metadata": {
    "collapsed": true
   },
   "outputs": [],
   "source": [
    "import os, re"
   ]
  },
  {
   "cell_type": "code",
   "execution_count": 7,
   "metadata": {},
   "outputs": [],
   "source": [
    "\n",
    "def file_rename():\n",
    "    #this script will run in the /spam subdirectory of whatever directory it is in. could be fancier but whatever\n",
    "    #keep track of what integer we are on:\n",
    "    current_int = 1\n",
    "    \n",
    "    path = 'spam'\n",
    "    \n",
    "    #set up our regex:\n",
    "    _regex = r'^(spam)(\\d{3})(.txt)$'\n",
    "    search_regex = re.compile(_regex)\n",
    "    \n",
    "    for filename in os.listdir(path):\n",
    "        is_spam = search_regex.search(filename)\n",
    "        if(is_spam):\n",
    "            file_path = os.path.join(path, filename)\n",
    "            #print(file_path)\n",
    "            \n",
    "            #extract digit group\n",
    "            digit_group = is_spam.group(2)\n",
    "            #print(digit_group)\n",
    "            \n",
    "            #convert digit_group to int value...\n",
    "            \n",
    "            #compare with current_int\n",
    "            #if equal, you found the next digit sequence you were looking for, so move on:\n",
    "            #increment current_int\n",
    "            #if they aren't equal, the filename digit sequence will necessarily be larger than the current_int\n",
    "                #rename file to current_int, increment current_int"
   ]
  },
  {
   "cell_type": "code",
   "execution_count": 8,
   "metadata": {},
   "outputs": [
    {
     "name": "stdout",
     "output_type": "stream",
     "text": [
      "spam\\spam001.txt\n",
      "001\n",
      "spam\\spam003.txt\n",
      "003\n",
      "spam\\spam005.txt\n",
      "005\n",
      "spam\\spam007.txt\n",
      "007\n",
      "spam\\spam009.txt\n",
      "009\n",
      "spam\\spam011.txt\n",
      "011\n"
     ]
    }
   ],
   "source": [
    "file_rename()"
   ]
  },
  {
   "cell_type": "code",
   "execution_count": null,
   "metadata": {
    "collapsed": true
   },
   "outputs": [],
   "source": []
  },
  {
   "cell_type": "code",
   "execution_count": null,
   "metadata": {
    "collapsed": true
   },
   "outputs": [],
   "source": []
  }
 ],
 "metadata": {
  "kernelspec": {
   "display_name": "Python 3",
   "language": "python",
   "name": "python3"
  },
  "language_info": {
   "codemirror_mode": {
    "name": "ipython",
    "version": 3
   },
   "file_extension": ".py",
   "mimetype": "text/x-python",
   "name": "python",
   "nbconvert_exporter": "python",
   "pygments_lexer": "ipython3",
   "version": "3.6.1"
  }
 },
 "nbformat": 4,
 "nbformat_minor": 2
}
