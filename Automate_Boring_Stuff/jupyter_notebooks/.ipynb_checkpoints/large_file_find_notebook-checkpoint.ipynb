{
 "cells": [
  {
   "cell_type": "code",
   "execution_count": 1,
   "metadata": {
    "collapsed": true
   },
   "outputs": [],
   "source": [
    "#epiercy\n",
    "#large_file_find.py\n",
    "#Program that walks through a folder tree and searches for exceptionally large files\n",
    "# if file > 100MB, Print these files with their absolute paths AND filesize in MBs to the console"
   ]
  },
  {
   "cell_type": "code",
   "execution_count": 2,
   "metadata": {
    "collapsed": true
   },
   "outputs": [],
   "source": [
    "import os"
   ]
  },
  {
   "cell_type": "code",
   "execution_count": 5,
   "metadata": {
    "collapsed": true
   },
   "outputs": [],
   "source": [
    "def large_file_find():\n",
    "    #get filepath:\n",
    "    parent_name = input('Enter the absolute path of the folder you wish to scan for large files and folders: ')\n",
    "    for folderName, subfolders, filenames in os.walk(parent_name):\n",
    "        total_file_size = 0;\n",
    "        for filename in filenames:\n",
    "            #first, if big enough, mark an exceptionally large file\n",
    "            file_path = os.path.join(folderName, filename)\n",
    "            file_size = os.path.getsize(file_path)\n",
    "            if  file_size >= 104857600:\n",
    "                print(\"Large file found @: \" + file_path + '\\n size (in bytes): ' + str(file_size))\n",
    "            total_file_size += file_size\n",
    "        if total_file_size >= 104857600:\n",
    "            print(\"Large folder found @: \" + folderName + 't\\n size (in bytes): ' + str(total_file_size))\n",
    "\n",
    "    print('All Finished!')\n"
   ]
  },
  {
   "cell_type": "code",
   "execution_count": 6,
   "metadata": {},
   "outputs": [
    {
     "name": "stdout",
     "output_type": "stream",
     "text": [
      "Enter the absolute path of the folder you wish to scan for large files and folders: c:\\users\\evan\\documents\n",
      "Large folder found @: c:\\users\\evan\\documents\\AUGUST.2016\\VIDEOS.AUGUST.2016t\n",
      " size (in bytes): 148857799\n",
      "Large file found @: c:\\users\\evan\\documents\\AUGUST.2016\\VIDEOS.AUGUST.2016\\VIDEO.SAVE.8.13.2016\\MOV002.MOD\n",
      " size (in bytes): 301217792\n",
      "Large file found @: c:\\users\\evan\\documents\\AUGUST.2016\\VIDEOS.AUGUST.2016\\VIDEO.SAVE.8.13.2016\\MOV004.MOD\n",
      " size (in bytes): 126816256\n",
      "Large file found @: c:\\users\\evan\\documents\\AUGUST.2016\\VIDEOS.AUGUST.2016\\VIDEO.SAVE.8.13.2016\\MOV005.MOD\n",
      " size (in bytes): 509253632\n",
      "Large folder found @: c:\\users\\evan\\documents\\AUGUST.2016\\VIDEOS.AUGUST.2016\\VIDEO.SAVE.8.13.2016t\n",
      " size (in bytes): 1025898096\n",
      "Large folder found @: c:\\users\\evan\\documents\\My Games\\Sid Meier's Civilization 5\\cachet\n",
      " size (in bytes): 105477120\n",
      "Large folder found @: c:\\users\\evan\\documents\\My Kindle Contentt\n",
      " size (in bytes): 149092566\n",
      "Large file found @: c:\\users\\evan\\documents\\My Kindle Content\\B00FRP6VKQ_EBOK\\B00FRP6VKQ_EBOK.azw\n",
      " size (in bytes): 114114252\n",
      "Large file found @: c:\\users\\evan\\documents\\My Kindle Content\\B00FRP6VKQ_EBOK\\CR!TZJGQV4MK539FFE2H34G4HC74CPS.azw.res\n",
      " size (in bytes): 523182957\n",
      "Large folder found @: c:\\users\\evan\\documents\\My Kindle Content\\B00FRP6VKQ_EBOKt\n",
      " size (in bytes): 637297452\n",
      "Large folder found @: c:\\users\\evan\\documents\\Thumb Backup\\AUGUST.2016\\VIDEOS.AUGUST.2016t\n",
      " size (in bytes): 148857799\n",
      "Large file found @: c:\\users\\evan\\documents\\Thumb Backup\\AUGUST.2016\\VIDEOS.AUGUST.2016\\VIDEO.SAVE.8.13.2016\\MOV002.MOD\n",
      " size (in bytes): 301217792\n",
      "Large file found @: c:\\users\\evan\\documents\\Thumb Backup\\AUGUST.2016\\VIDEOS.AUGUST.2016\\VIDEO.SAVE.8.13.2016\\MOV004.MOD\n",
      " size (in bytes): 126816256\n",
      "Large file found @: c:\\users\\evan\\documents\\Thumb Backup\\AUGUST.2016\\VIDEOS.AUGUST.2016\\VIDEO.SAVE.8.13.2016\\MOV005.MOD\n",
      " size (in bytes): 509253632\n",
      "Large folder found @: c:\\users\\evan\\documents\\Thumb Backup\\AUGUST.2016\\VIDEOS.AUGUST.2016\\VIDEO.SAVE.8.13.2016t\n",
      " size (in bytes): 1025898096\n",
      "Large file found @: c:\\users\\evan\\documents\\Thumb Backup\\Documents\\IPython Notebooks\\train_2013.csv\n",
      " size (in bytes): 1060745948\n",
      "Large folder found @: c:\\users\\evan\\documents\\Thumb Backup\\Documents\\IPython Notebookst\n",
      " size (in bytes): 1076354582\n",
      "Large folder found @: c:\\users\\evan\\documents\\Thumb Backup\\Documents\\My Games\\Sid Meier's Civilization 5\\cachet\n",
      " size (in bytes): 105477120\n",
      "Large folder found @: c:\\users\\evan\\documents\\Thumb Backup\\Free Ebookst\n",
      " size (in bytes): 186554384\n",
      "Large folder found @: c:\\users\\evan\\documents\\Thumb Backup\\K2 Trainingt\n",
      " size (in bytes): 135264819\n",
      "Large file found @: c:\\users\\evan\\documents\\Thumb Backup\\Lexar\\Documents\\IPython Notebooks\\train_2013.csv\n",
      " size (in bytes): 1060745948\n",
      "Large folder found @: c:\\users\\evan\\documents\\Thumb Backup\\Lexar\\Documents\\IPython Notebookst\n",
      " size (in bytes): 1076354582\n",
      "Large folder found @: c:\\users\\evan\\documents\\Thumb Backup\\Lexar\\K2 Trainingt\n",
      " size (in bytes): 135264819\n",
      "Large folder found @: c:\\users\\evan\\documents\\Thumb Backup\\Module 13t\n",
      " size (in bytes): 120362364\n",
      "Large file found @: c:\\users\\evan\\documents\\Thumb Backup\\Music\\Epic Video Game Music- Civilization V (Full Deluxe Soundtrack)-[www_flv2mp3_com].mp3\n",
      " size (in bytes): 227012682\n",
      "Large folder found @: c:\\users\\evan\\documents\\Thumb Backup\\Musict\n",
      " size (in bytes): 391373030\n",
      "Large folder found @: c:\\users\\evan\\documents\\Thumb Backup\\Music\\Amazon MP3\\Brand X Music\\The Best of Brand X Musict\n",
      " size (in bytes): 109298215\n",
      "Large folder found @: c:\\users\\evan\\documents\\Thumb Backup\\Music\\Amazon MP3\\Hybrid\\I Choose Noiset\n",
      " size (in bytes): 131723684\n",
      "Large folder found @: c:\\users\\evan\\documents\\Thumb Backup\\Music\\Amazon MP3\\Two Steps From Hell\\Archangelt\n",
      " size (in bytes): 151517775\n",
      "Large folder found @: c:\\users\\evan\\documents\\Thumb Backup\\Music\\Amazon MP3\\Two Steps From Hell\\Halloweent\n",
      " size (in bytes): 168342851\n",
      "Large folder found @: c:\\users\\evan\\documents\\Thumb Backup\\Music\\Amazon MP3\\Two Steps From Hell\\SkyWorldt\n",
      " size (in bytes): 156996178\n",
      "Large folder found @: c:\\users\\evan\\documents\\Thumb Backup\\Music\\Invinciblet\n",
      " size (in bytes): 121462717\n",
      "Large file found @: c:\\users\\evan\\documents\\Thumb Backup\\Videos\\Evan.Farkle.mp4\n",
      " size (in bytes): 343475874\n",
      "Large folder found @: c:\\users\\evan\\documents\\Thumb Backup\\Videost\n",
      " size (in bytes): 352744933\n",
      "All Finished!\n"
     ]
    }
   ],
   "source": [
    "large_file_find()"
   ]
  },
  {
   "cell_type": "code",
   "execution_count": null,
   "metadata": {
    "collapsed": true
   },
   "outputs": [],
   "source": [
    "#testpath:  c:\\users\\evan\\documents"
   ]
  },
  {
   "cell_type": "code",
   "execution_count": null,
   "metadata": {
    "collapsed": true
   },
   "outputs": [],
   "source": []
  }
 ],
 "metadata": {
  "kernelspec": {
   "display_name": "Python 3",
   "language": "python",
   "name": "python3"
  },
  "language_info": {
   "codemirror_mode": {
    "name": "ipython",
    "version": 3
   },
   "file_extension": ".py",
   "mimetype": "text/x-python",
   "name": "python",
   "nbconvert_exporter": "python",
   "pygments_lexer": "ipython3",
   "version": "3.6.1"
  }
 },
 "nbformat": 4,
 "nbformat_minor": 2
}
