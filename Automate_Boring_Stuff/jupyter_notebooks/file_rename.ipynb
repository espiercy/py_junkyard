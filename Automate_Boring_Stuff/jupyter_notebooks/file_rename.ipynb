{
 "cells": [
  {
   "cell_type": "code",
   "execution_count": 1,
   "metadata": {},
   "outputs": [],
   "source": [
    "#epiercy\n",
    "#file_rename\n",
    "#finds all files in directory with given prefix, suffixed by a series of 3 digits (e.g. 001, 002, et cetera)\n",
    "#locates any gaps in file names and fixes, renaming file and any subsequent ones."
   ]
  },
  {
   "cell_type": "code",
   "execution_count": 2,
   "metadata": {},
   "outputs": [],
   "source": [
    "import os, re"
   ]
  },
  {
   "cell_type": "code",
   "execution_count": 37,
   "metadata": {},
   "outputs": [],
   "source": [
    "\n",
    "def file_rename():\n",
    "    \n",
    "    current_int = 1\n",
    "    \n",
    "    path = 'spam'\n",
    "    \n",
    "    _regex = r'^(spam)(\\d{3})(.txt)$'\n",
    "    search_regex = re.compile(_regex)\n",
    "\n",
    "    \n",
    "    for filename in os.listdir(path):\n",
    "        is_spam = search_regex.search(filename)\n",
    "        if(is_spam):\n",
    "            file_path = os.path.join(path, filename)\n",
    "\n",
    "            digit_sequence = is_spam.group(2)\n",
    "            \n",
    "            digit_value = int(digit_sequence)\n",
    "\n",
    "            if current_int < digit_value:\n",
    "                new_sequence = str(current_int).zfill(3)\n",
    "                new_filename = 'spam' + new_sequence + '.txt'\n",
    "                new_path = os.path.join(path, new_filename)\n",
    "                os.rename(file_path, new_path)\n",
    "            current_int +=1"
   ]
  },
  {
   "cell_type": "code",
   "execution_count": 39,
   "metadata": {},
   "outputs": [],
   "source": [
    "file_rename()"
   ]
  },
  {
   "cell_type": "code",
   "execution_count": null,
   "metadata": {
    "collapsed": true
   },
   "outputs": [],
   "source": []
  },
  {
   "cell_type": "code",
   "execution_count": null,
   "metadata": {
    "collapsed": true
   },
   "outputs": [],
   "source": []
  }
 ],
 "metadata": {
  "kernelspec": {
   "display_name": "Python 3",
   "language": "python",
   "name": "python3"
  },
  "language_info": {
   "codemirror_mode": {
    "name": "ipython",
    "version": 3
   },
   "file_extension": ".py",
   "mimetype": "text/x-python",
   "name": "python",
   "nbconvert_exporter": "python",
   "pygments_lexer": "ipython3",
   "version": "3.6.5"
  }
 },
 "nbformat": 4,
 "nbformat_minor": 2
}
